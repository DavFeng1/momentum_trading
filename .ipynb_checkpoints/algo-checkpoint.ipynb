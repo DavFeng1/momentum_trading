{
 "cells": [
  {
   "cell_type": "markdown",
   "metadata": {},
   "source": [
    "# Quantitative Momentum Strategy\n",
    "\n",
    "\"Momentum investing\" means investing in the stocks that have increased in price the most."
   ]
  },
  {
   "cell_type": "code",
   "execution_count": 183,
   "metadata": {},
   "outputs": [],
   "source": [
    "import numpy as np \n",
    "import pandas as pd\n",
    "import yfinance as yf\n",
    "from datetime import datetime, timedelta\n",
    "import bs4 as bs\n",
    "import requests\n",
    "import xlsxwriter\n",
    "import math\n",
    "import pickle\n",
    "from scipy import stats"
   ]
  },
  {
   "cell_type": "code",
   "execution_count": 284,
   "metadata": {},
   "outputs": [],
   "source": [
    "portfolio_size = 100.0"
   ]
  },
  {
   "cell_type": "code",
   "execution_count": 90,
   "metadata": {},
   "outputs": [],
   "source": [
    "def save_sp500_tickers():\n",
    "    resp = requests.get('http://en.wikipedia.org/wiki/List_of_S%26P_500_companies')\n",
    "    soup = bs.BeautifulSoup(resp.text, 'lxml')\n",
    "    table = soup.find('table', {'class': 'wikitable sortable'})\n",
    "    tickers = []\n",
    "    for row in table.findAll('tr')[1:]:\n",
    "        ticker = row.findAll('td')[0].text\n",
    "        # Remove stock class symbol \"BRK.B\"\n",
    "        if \".\" in ticker:\n",
    "            ticker = ticker.replace(\".\", \"-\")\n",
    "        tickers.append(ticker[:-1])\n",
    "    with open(\"sp500tickers.pickle\", \"wb\") as f:\n",
    "        pickle.dump(tickers, f)\n",
    "    return tickers\n"
   ]
  },
  {
   "cell_type": "code",
   "execution_count": 91,
   "metadata": {},
   "outputs": [],
   "source": [
    "# Retrieve sp 500 ticker data from yf\n",
    "sp_500_tickers = save_sp500_tickers()\n",
    "tickers = yf.Tickers(' '.join(sp_500_tickers))"
   ]
  },
  {
   "cell_type": "code",
   "execution_count": 196,
   "metadata": {
    "scrolled": true
   },
   "outputs": [
    {
     "data": {
      "text/plain": [
       "('2021-02-14', '2020-02-14')"
      ]
     },
     "execution_count": 196,
     "metadata": {},
     "output_type": "execute_result"
    }
   ],
   "source": [
    "today = datetime.today().strftime('%Y-%m-%d')\n",
    "start_of_year = datetime(datetime.today().year - 1, \n",
    "                         datetime.today().month, \n",
    "                         datetime.today().day).strftime('%Y-%m-%d')\n",
    "today, start_of_year"
   ]
  },
  {
   "cell_type": "code",
   "execution_count": 197,
   "metadata": {},
   "outputs": [
    {
     "name": "stdout",
     "output_type": "stream",
     "text": [
      "[*********************100%***********************]  505 of 505 completed\n"
     ]
    }
   ],
   "source": [
    "data = yf.download(sp_500_tickers, start=start_of_year, end=today)"
   ]
  },
  {
   "cell_type": "code",
   "execution_count": 199,
   "metadata": {},
   "outputs": [],
   "source": [
    "def chunks(lst, n):\n",
    "    \"\"\"Yield successive n-sized chunks from lst.\"\"\"\n",
    "    for i in range(0, len(lst), n):\n",
    "        yield lst[i:i + n]    \n",
    "symbol_groups = list(chunks(sp_500_tickers, 100))\n",
    "symbol_strings = []\n",
    "# Each cluster is turned into a CSV string\n",
    "for i in range(0, len(symbol_groups)):\n",
    "    symbol_strings.append(','.join(symbol_groups[i]))\n",
    "my_columns = ['Ticker', 'Price', 'One-Year Price Return', 'Number of Shares to Buy']"
   ]
  },
  {
   "cell_type": "markdown",
   "metadata": {},
   "source": [
    "# HQM analysis"
   ]
  },
  {
   "cell_type": "code",
   "execution_count": 268,
   "metadata": {},
   "outputs": [],
   "source": [
    "# calculate with HQM\n",
    "hqm_columns = [\n",
    "    'Ticker', \n",
    "    'Price', \n",
    "    'Number of Shares to Buy', \n",
    "    'One-Year Price Return', \n",
    "    'One-Year Return Percentile',\n",
    "    'Six-Month Price Return',\n",
    "    'Six-Month Return Percentile',\n",
    "    'Three-Month Price Return',\n",
    "    'Three-Month Return Percentile',\n",
    "    'One-Month Price Return',\n",
    "    'One-Month Return Percentile',\n",
    "    'HQM Score'\n",
    "]\n",
    "\n",
    "hqm_dataframe = pd.DataFrame(columns = hqm_columns)\n",
    "\n",
    "for symbol_string in symbol_strings:\n",
    "    for symbol in symbol_string.split(','):\n",
    "        last_price = data[\"Close\"][symbol][-1]\n",
    "        start_price = data[\"Close\"][symbol][0]\n",
    "        six_month_price = data[\"Close\"][symbol][125]\n",
    "        three_month_price = data[\"Close\"][symbol][188]\n",
    "        one_month_price = data[\"Close\"][symbol][229]\n",
    "        one_year_percent_return = 100 * (last_price / start_price - 1)\n",
    "        six_month_percent_return = 100 * (last_price / six_month_price - 1)\n",
    "        three_month_percent_return = 100 * (last_price / three_month_price - 1)\n",
    "        one_month_percent_return = 100 * (last_price / one_month_price - 1)\n",
    "        \n",
    "        hqm_dataframe = hqm_dataframe.append(\n",
    "            pd.Series([symbol, \n",
    "                       last_price,\n",
    "                       'N/A',\n",
    "                       one_year_percent_return,\n",
    "                       'N/A',\n",
    "                       six_month_percent_return,\n",
    "                       'N/A',\n",
    "                       three_month_percent_return,\n",
    "                       'N/A',\n",
    "                       one_month_percent_return,\n",
    "                       'N/A',\n",
    "                       'N/A'\n",
    "                       ], \n",
    "                      index = hqm_columns), \n",
    "            ignore_index = True)"
   ]
  },
  {
   "cell_type": "markdown",
   "metadata": {},
   "source": [
    "## Calculating Momentum Percentiles\n",
    "\n",
    "We now need to calculate momentum percentile scores for every stock in the universe. More specifically, we need to calculate percentile scores for the following metrics for every stock:\n",
    "\n",
    "* `One-Year Price Return`\n",
    "* `Six-Month Price Return`\n",
    "* `Three-Month Price Return`\n",
    "* `One-Month Price Return`"
   ]
  },
  {
   "cell_type": "code",
   "execution_count": 269,
   "metadata": {
    "scrolled": true
   },
   "outputs": [],
   "source": [
    "time_periods = [\n",
    "    'One-Year',\n",
    "    'Six-Month',\n",
    "    'Three-Month',\n",
    "    'One-Month'\n",
    "]\n",
    "\n",
    "for row in hqm_dataframe.index:\n",
    "    for time_period in time_periods:\n",
    "        hqm_dataframe.loc[row, f\"{time_period} Return Percentile\"] = stats.percentileofscore(\n",
    "            hqm_dataframe[f\"{time_period} Price Return\"], \n",
    "            hqm_dataframe.loc[row, f\"{time_period} Price Return\"]) / 100\n"
   ]
  },
  {
   "cell_type": "markdown",
   "metadata": {},
   "source": [
    "## Calculating the HQM Score\n",
    "\n",
    "We'll now calculate our `HQM Score`, which is the high-quality momentum score that we'll use to filter for stocks in this investing strategy.\n",
    "\n",
    "The `HQM Score` will be the arithmetic mean of the 4 momentum percentile scores that we calculated in the last section."
   ]
  },
  {
   "cell_type": "code",
   "execution_count": 270,
   "metadata": {},
   "outputs": [],
   "source": [
    "from statistics import mean\n",
    "\n",
    "for row in hqm_dataframe.index:\n",
    "    momentum_percentiles = []\n",
    "    for time_period in time_periods:\n",
    "        momentum_percentiles.append(hqm_dataframe.loc[row, f'{time_period} Return Percentile'])\n",
    "    hqm_dataframe.loc[row, 'HQM Score'] = mean(momentum_percentiles)"
   ]
  },
  {
   "cell_type": "code",
   "execution_count": 271,
   "metadata": {},
   "outputs": [],
   "source": [
    "# Select 50 best by HQM score\n",
    "hqm_dataframe = hqm_dataframe.sort_values(by = 'HQM Score', ascending = False)\n"
   ]
  },
  {
   "cell_type": "code",
   "execution_count": 273,
   "metadata": {},
   "outputs": [],
   "source": [
    "position_size = float(portfolio_size) / len(hqm_dataframe.index)\n",
    "for i in range(0, len(hqm_dataframe['Ticker'])-1):\n",
    "    hqm_dataframe.loc[i, 'Number of Shares to Buy'] = position_size / hqm_dataframe['Price'][i]\n"
   ]
  },
  {
   "cell_type": "code",
   "execution_count": 278,
   "metadata": {
    "scrolled": true
   },
   "outputs": [],
   "source": [
    "# Take top 50 momentum stocks\n",
    "hqm_dataframe = hqm_dataframe[:50]"
   ]
  },
  {
   "cell_type": "code",
   "execution_count": 280,
   "metadata": {},
   "outputs": [],
   "source": [
    "# hqm_dataframe"
   ]
  },
  {
   "cell_type": "code",
   "execution_count": null,
   "metadata": {},
   "outputs": [],
   "source": [
    "# Connect with robinhood\n",
    "from pyrh import Robinhood\n",
    "import base64\n",
    "qr_code = base64.b32encode(b'226100')\n",
    "rb = Robinhood()\n",
    "rb.login(username=\"dfeng2017\", password=\"2FCyKLLV3EKbr4Y\")"
   ]
  },
  {
   "cell_type": "code",
   "execution_count": null,
   "metadata": {},
   "outputs": [],
   "source": [
    "rb.get_account()\n"
   ]
  },
  {
   "cell_type": "code",
   "execution_count": null,
   "metadata": {},
   "outputs": [],
   "source": []
  }
 ],
 "metadata": {
  "kernelspec": {
   "display_name": "Python 3",
   "language": "python",
   "name": "python3"
  },
  "language_info": {
   "codemirror_mode": {
    "name": "ipython",
    "version": 3
   },
   "file_extension": ".py",
   "mimetype": "text/x-python",
   "name": "python",
   "nbconvert_exporter": "python",
   "pygments_lexer": "ipython3",
   "version": "3.8.6"
  }
 },
 "nbformat": 4,
 "nbformat_minor": 4
}
